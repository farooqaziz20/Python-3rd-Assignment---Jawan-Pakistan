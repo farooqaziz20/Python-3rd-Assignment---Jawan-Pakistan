{
 "cells": [
  {
   "cell_type": "markdown",
   "metadata": {},
   "source": [
    "# Python by Jawan Pakistan "
   ]
  },
  {
   "cell_type": "markdown",
   "metadata": {},
   "source": [
    "## 3rd Assignment"
   ]
  },
  {
   "cell_type": "markdown",
   "metadata": {},
   "source": [
    "Farooq Aziz"
   ]
  },
  {
   "cell_type": "markdown",
   "metadata": {},
   "source": [
    "Question 1: Write a Python program to print the following string in a specific format (see the\n",
    "output).\n",
    "\n",
    "Twinkle, twinkle, little star,\n",
    "How I wonder what you are!\n",
    "Up above the world so high,\n",
    "Like a diamond in the sky.\n",
    "\n",
    "Twinkle, twinkle, little star,\n",
    "How I wonder what you are"
   ]
  },
  {
   "cell_type": "code",
   "execution_count": 41,
   "metadata": {},
   "outputs": [
    {
     "name": "stdout",
     "output_type": "stream",
     "text": [
      "Twinkle, twinkle, little star, \n",
      "\tHow I wonder what you are! \n",
      "\t\tUp above the world so high, \n",
      "\t\tLike a diamond in the sky. \n",
      "Twinkle, twinkle, little star, \n",
      "\tHow I wonder what you are!\n"
     ]
    }
   ],
   "source": [
    "print(\"Twinkle, twinkle, little star, \\n\\tHow I wonder what you are! \\n\\t\\tUp above the world so high, \\n\\t\\tLike a diamond in the sky. \\nTwinkle, twinkle, little star, \\n\\tHow I wonder what you are!\");"
   ]
  },
  {
   "cell_type": "markdown",
   "metadata": {},
   "source": [
    "Question 2: Write a Python program to get the Python version you are using?"
   ]
  },
  {
   "cell_type": "code",
   "execution_count": 4,
   "metadata": {},
   "outputs": [
    {
     "name": "stdout",
     "output_type": "stream",
     "text": [
      "3.8.1\n"
     ]
    }
   ],
   "source": [
    "from platform import python_version\n",
    "\n",
    "print(python_version())"
   ]
  },
  {
   "cell_type": "markdown",
   "metadata": {},
   "source": [
    "Question 3. Write a Python program to display the current date and time?"
   ]
  },
  {
   "cell_type": "code",
   "execution_count": 6,
   "metadata": {},
   "outputs": [
    {
     "name": "stdout",
     "output_type": "stream",
     "text": [
      "Current Date and Time:  2021-10-24 13:29:57.821514\n"
     ]
    }
   ],
   "source": [
    "from datetime import datetime\n",
    "now = datetime.now()\n",
    "print(\"Current Date and Time: \", now)"
   ]
  },
  {
   "cell_type": "markdown",
   "metadata": {},
   "source": [
    "Question 4: Write a Python program which accepts the radius of a circle from the user and compute\n",
    "the area."
   ]
  },
  {
   "cell_type": "code",
   "execution_count": 8,
   "metadata": {},
   "outputs": [
    {
     "name": "stdout",
     "output_type": "stream",
     "text": [
      "Input the radius of the circle : 12\n",
      "The area of the circle with radius 12.0 is: 452.3893421169302\n"
     ]
    }
   ],
   "source": [
    "from math import pi\n",
    "r = float(input (\"Input the radius of the circle : \"))\n",
    "print (\"The area of the circle with radius \" + str(r) + \" is: \" + str(pi * r**2))"
   ]
  },
  {
   "cell_type": "markdown",
   "metadata": {},
   "source": [
    "Question 4: Write a Python program which accepts the user's first and last name and print them in\n",
    "reverse order with a space between them."
   ]
  },
  {
   "cell_type": "code",
   "execution_count": 10,
   "metadata": {},
   "outputs": [
    {
     "name": "stdout",
     "output_type": "stream",
     "text": [
      "Enter your First Name : Farooq\n",
      "Enter your Last Name : Aziz\n",
      "Your Name in Revese Order:  Aziz Farooq\n"
     ]
    }
   ],
   "source": [
    "firstName = input(\"Enter your First Name : \")\n",
    "lastName = input(\"Enter your Last Name : \")\n",
    "print (\"Your Name in Revese Order:  \" + lastName + \" \" + firstName)"
   ]
  },
  {
   "cell_type": "markdown",
   "metadata": {},
   "source": [
    "Question 6: Write a python program which takes two inputs from user and print them addition"
   ]
  },
  {
   "cell_type": "code",
   "execution_count": 13,
   "metadata": {},
   "outputs": [
    {
     "name": "stdout",
     "output_type": "stream",
     "text": [
      "Enter first integer:\n",
      "12\n",
      "Enter second integer:\n",
      "12\n",
      "Sum of the two integers:  24\n"
     ]
    }
   ],
   "source": [
    "print(\"Enter first integer:\")\n",
    "x = int(input())\n",
    "print(\"Enter second integer:\")\n",
    "y = int(input())\n",
    "print(\"Sum of the two integers: \",x + y)"
   ]
  },
  {
   "cell_type": "markdown",
   "metadata": {},
   "source": [
    "Question 7: Write a program which takes 5 inputs from user for different subject’s marks, total it\n",
    "and generate mark sheet using grades ?"
   ]
  },
  {
   "cell_type": "code",
   "execution_count": 28,
   "metadata": {},
   "outputs": [
    {
     "name": "stdout",
     "output_type": "stream",
     "text": [
      "Enter marks of the first subject: 50\n",
      "Enter marks of the second subject: 100\n",
      "Enter marks of the third subject: 100\n",
      "Enter marks of the fourth subject: 60\n",
      "Enter marks of the fifth subject: 60\n",
      "Mark Sheet is Following\n",
      "Subject 1: Marks=50 Grade=B\n",
      "Subject 2: Marks=100 Grade=A\n",
      "Subject 3: Marks=100 Grade=A\n",
      "Subject 4: Marks=60 Grade=B\n",
      "Subject 5: Marks=60 Grade=B\n",
      "\n",
      "\n",
      "Total Marks are: 370\n",
      "\n",
      "Avg Marks are: 74.0\n",
      "\n",
      "Avg Grade is: B\n"
     ]
    }
   ],
   "source": [
    "def calculateGrade(marks):\n",
    "    if(marks>=90):\n",
    "        return \"A\"\n",
    "    elif(marks>=80&marks<90):\n",
    "        return \"B\"\n",
    "    elif(marks>=70&marks<80):\n",
    "        return \"C\"\n",
    "    elif(marks>=60&marks<70):\n",
    "        return \"D\"\n",
    "    else:\n",
    "        return \"F\"\n",
    "    \n",
    "sub1=int(input(\"Enter marks of the first subject: \"))\n",
    "sub2=int(input(\"Enter marks of the second subject: \"))\n",
    "sub3=int(input(\"Enter marks of the third subject: \"))\n",
    "sub4=int(input(\"Enter marks of the fourth subject: \"))\n",
    "sub5=int(input(\"Enter marks of the fifth subject: \"))\n",
    "\n",
    "total=sub1+sub2+sub3+sub4+sub5;\n",
    "avg=total/5;\n",
    "\n",
    "print(\"\\n\\nMark Sheet is Following\")\n",
    "print(\"Subject 1: Marks=\"+str(sub1)+\" Grade=\"+calculateGrade(sub1))\n",
    "print(\"Subject 2: Marks=\"+str(sub2)+\" Grade=\"+calculateGrade(sub2))\n",
    "print(\"Subject 3: Marks=\"+str(sub3)+\" Grade=\"+calculateGrade(sub3))\n",
    "print(\"Subject 4: Marks=\"+str(sub4)+\" Grade=\"+calculateGrade(sub4))\n",
    "print(\"Subject 5: Marks=\"+str(sub5)+\" Grade=\"+calculateGrade(sub5))\n",
    "print(\"\\n\\nTotal Marks are: \"+str(total))\n",
    "print(\"\\nAvg Marks are: \"+str(avg))\n",
    "print(\"\\nAvg Grade is: \"+calculateGrade(sub5))\n",
    "    \n"
   ]
  },
  {
   "cell_type": "markdown",
   "metadata": {},
   "source": [
    "Question 8: Write a program which take input from user and identify that the given number is even\n",
    "or odd?"
   ]
  },
  {
   "cell_type": "code",
   "execution_count": 31,
   "metadata": {
    "scrolled": true
   },
   "outputs": [
    {
     "name": "stdout",
     "output_type": "stream",
     "text": [
      "Enter a number: 11\n",
      "Entered number is Odd number\n"
     ]
    }
   ],
   "source": [
    "num=int(input(\"Enter a number: \"))\n",
    "if(num%2==0):\n",
    "    print(\"Entered number is an Even number\")\n",
    "else:\n",
    "   print(\"Entered number is an Odd number\") "
   ]
  },
  {
   "cell_type": "markdown",
   "metadata": {},
   "source": [
    "Question 9: Write a program which print the length of the list?"
   ]
  },
  {
   "cell_type": "code",
   "execution_count": 34,
   "metadata": {
    "scrolled": true
   },
   "outputs": [
    {
     "data": {
      "text/plain": [
       "3"
      ]
     },
     "execution_count": 34,
     "metadata": {},
     "output_type": "execute_result"
    }
   ],
   "source": [
    "my_list = [\"a\", \"b\", \"c\"]\n",
    "len(my_list) "
   ]
  },
  {
   "cell_type": "markdown",
   "metadata": {},
   "source": [
    "Question 10: Write a Python program to sum all the numeric items in a list?"
   ]
  },
  {
   "cell_type": "code",
   "execution_count": 37,
   "metadata": {},
   "outputs": [
    {
     "data": {
      "text/plain": [
       "165"
      ]
     },
     "execution_count": 37,
     "metadata": {},
     "output_type": "execute_result"
    }
   ],
   "source": [
    "list = [15, 18, 5, 3, 91, 16, 17]\n",
    "sum(list)"
   ]
  },
  {
   "cell_type": "markdown",
   "metadata": {},
   "source": [
    "Question 11:Write a Python program to get the largest number from a numeric list."
   ]
  },
  {
   "cell_type": "code",
   "execution_count": 38,
   "metadata": {},
   "outputs": [
    {
     "data": {
      "text/plain": [
       "91"
      ]
     },
     "execution_count": 38,
     "metadata": {},
     "output_type": "execute_result"
    }
   ],
   "source": [
    "def largestnuminlist( list ):\n",
    "    max = list[ 0 ]\n",
    "    for num in list:\n",
    "        if num > max:\n",
    "            max = num\n",
    "    return max\n",
    "list = [15, 18, 5, 3, 91, 16, 17]\n",
    "largestnuminlist(list)"
   ]
  },
  {
   "cell_type": "markdown",
   "metadata": {},
   "source": [
    "Question 12: Take a list, say for example this one:\n",
    "a = [1, 1, 2, 3, 5, 8, 13, 21, 34, 55, 89]\n",
    "Write a program that prints out all the elements of the list that are less than 5."
   ]
  },
  {
   "cell_type": "code",
   "execution_count": 40,
   "metadata": {},
   "outputs": [
    {
     "name": "stdout",
     "output_type": "stream",
     "text": [
      "8\n",
      "13\n",
      "21\n",
      "34\n",
      "55\n",
      "89\n"
     ]
    }
   ],
   "source": [
    "a = [1, 1, 2, 3, 5, 8, 13, 21, 34, 55, 89]\n",
    "for num in a:\n",
    "        if num > 5:\n",
    "            print(str(num))"
   ]
  },
  {
   "cell_type": "code",
   "execution_count": null,
   "metadata": {},
   "outputs": [],
   "source": []
  }
 ],
 "metadata": {
  "kernelspec": {
   "display_name": "Python 3",
   "language": "python",
   "name": "python3"
  },
  "language_info": {
   "codemirror_mode": {
    "name": "ipython",
    "version": 3
   },
   "file_extension": ".py",
   "mimetype": "text/x-python",
   "name": "python",
   "nbconvert_exporter": "python",
   "pygments_lexer": "ipython3",
   "version": "3.8.1"
  }
 },
 "nbformat": 4,
 "nbformat_minor": 4
}
